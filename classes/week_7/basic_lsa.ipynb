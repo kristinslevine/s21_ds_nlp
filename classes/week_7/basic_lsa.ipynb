{
 "cells": [
  {
   "cell_type": "code",
   "execution_count": 1,
   "metadata": {},
   "outputs": [
    {
     "data": {
      "text/html": [
       "<div>\n",
       "<style scoped>\n",
       "    .dataframe tbody tr th:only-of-type {\n",
       "        vertical-align: middle;\n",
       "    }\n",
       "\n",
       "    .dataframe tbody tr th {\n",
       "        vertical-align: top;\n",
       "    }\n",
       "\n",
       "    .dataframe thead th {\n",
       "        text-align: right;\n",
       "    }\n",
       "</style>\n",
       "<table border=\"1\" class=\"dataframe\">\n",
       "  <thead>\n",
       "    <tr style=\"text-align: right;\">\n",
       "      <th></th>\n",
       "      <th>publish_date</th>\n",
       "      <th>headline_text</th>\n",
       "    </tr>\n",
       "  </thead>\n",
       "  <tbody>\n",
       "    <tr>\n",
       "      <th>0</th>\n",
       "      <td>20030219</td>\n",
       "      <td>aba decides against community broadcasting lic...</td>\n",
       "    </tr>\n",
       "    <tr>\n",
       "      <th>1</th>\n",
       "      <td>20030219</td>\n",
       "      <td>act fire witnesses must be aware of defamation</td>\n",
       "    </tr>\n",
       "    <tr>\n",
       "      <th>2</th>\n",
       "      <td>20030219</td>\n",
       "      <td>a g calls for infrastructure protection summit</td>\n",
       "    </tr>\n",
       "    <tr>\n",
       "      <th>3</th>\n",
       "      <td>20030219</td>\n",
       "      <td>air nz staff in aust strike for pay rise</td>\n",
       "    </tr>\n",
       "    <tr>\n",
       "      <th>4</th>\n",
       "      <td>20030219</td>\n",
       "      <td>air nz strike to affect australian travellers</td>\n",
       "    </tr>\n",
       "  </tbody>\n",
       "</table>\n",
       "</div>"
      ],
      "text/plain": [
       "   publish_date                                      headline_text\n",
       "0      20030219  aba decides against community broadcasting lic...\n",
       "1      20030219     act fire witnesses must be aware of defamation\n",
       "2      20030219     a g calls for infrastructure protection summit\n",
       "3      20030219           air nz staff in aust strike for pay rise\n",
       "4      20030219      air nz strike to affect australian travellers"
      ]
     },
     "metadata": {},
     "output_type": "display_data"
    }
   ],
   "source": [
    "import pandas as pd\n",
    "raw_data = pd.read_csv('/Users/teacher/repos/s21_ds_nlp/classes/week_7/data/headlines', error_bad_lines=False);\n",
    "#raw_data = pd.read_csv(datafile, parse_dates=[0], infer_datetime_format=True)\n",
    "\n",
    "reindexed_data = raw_data['headline_text']\n",
    "reindexed_data.index = raw_data['publish_date']\n",
    "\n",
    "display(raw_data.head())"
   ]
  },
  {
   "cell_type": "code",
   "execution_count": 2,
   "metadata": {},
   "outputs": [
    {
     "data": {
      "text/plain": [
       "publish_date\n",
       "20030224            spanish protest against prestige disaster\n",
       "20030314    opposition to second regulated power interconn...\n",
       "20030315         sydney roosters kick off season with victory\n",
       "20030314                     dead woman found two years later\n",
       "20030402           recovery underway for born again florentia\n",
       "20030326              woodchip trucks safe industry officials\n",
       "20030404                 russia slams ban on participation in\n",
       "20030303              woods pulls out of dubai desert classic\n",
       "20030405        raiders broncos undefeated knights deny storm\n",
       "20030301                               joeys into fifa worlds\n",
       "20030328     suspects in djindjic murder killed during arrest\n",
       "20030309                        sa vic finish season in style\n",
       "20030301        boulami suspended by iaaf pending arbitration\n",
       "20030226               union airs tertiary education concerns\n",
       "20030409           residents alerted to possible water crisis\n",
       "20030306       developer asked to provide more information on\n",
       "20030309                                   v8 race called off\n",
       "20030330              springborg takes first bites of beattie\n",
       "20030306                                    flies invade bush\n",
       "20030328         spy satellite could launch arms race n korea\n",
       "20030406              three injured in beirut mcdonalds blast\n",
       "20030314               health insurance will go up yearly aca\n",
       "20030401             indonesian bomb fails to pierce pipeline\n",
       "20030304    iraq says civilians killed in coalition air raids\n",
       "20030219          saudi arabians to stand trial over al qaeda\n",
       "20030306            cargill beef speaks out over jobs figures\n",
       "20030312          man extradited after 8 month murder inquiry\n",
       "20030401                 nauru president suffers heart attack\n",
       "20030219      patterson defends decision not to attend health\n",
       "20030319         farmers urged to be vigilant against disease\n",
       "                                  ...                        \n",
       "20030406    us warns of possible terror strikes in uzbekistan\n",
       "20030406    lord mayoral candidate thinking outside the sq...\n",
       "20030322                       cities bombed in northern iraq\n",
       "20030404                      asbestos feared at education hq\n",
       "20030303      pakistan zim drinking in the last chance saloon\n",
       "20030227                       icac to hand down oasis report\n",
       "20030304      families cite arafat in court for jewish deaths\n",
       "20030311                       iraqi diplomat leaves canberra\n",
       "20030306           up to 20000 homeless after cyclone ravages\n",
       "20030318              snowtown trial continues killer in dock\n",
       "20030330                   canberra woman killed in car crash\n",
       "20030329                    medias tone frustrates washington\n",
       "20030318                     turkey may be ready to assist us\n",
       "20030219                          nursing student intake down\n",
       "20030329       candidates nominate for outgoing liberals seat\n",
       "20030316                      teenager killed in car accident\n",
       "20030331                  rumours sow uncertainty in us ranks\n",
       "20030228                cox celebrates 10000 first class runs\n",
       "20030326               carr to rejig cabinet with fresh faces\n",
       "20030402               news ltd journalist expelled from iraq\n",
       "20030329     lewiss latest title defence to take place in the\n",
       "20030228     armstrong in top shape despite personal problems\n",
       "20030221     tuckey laments gungahlin drive planning problems\n",
       "20030307    govt body ordered to pay compo to sydney bushfire\n",
       "20030404      rayo look to turn pain into gain at real madrid\n",
       "20030328               babies in bags all from one china city\n",
       "20030311       man due to give evidence over passport refusal\n",
       "20030401                       blaze damages nimmitabel hotel\n",
       "20030308                 oppn says bacon denying his heritage\n",
       "20030402                community gets behind striking miners\n",
       "Name: headline_text, Length: 10000, dtype: object"
      ]
     },
     "metadata": {},
     "output_type": "display_data"
    },
    {
     "data": {
      "text/plain": [
       "<10000x400 sparse matrix of type '<class 'numpy.int64'>'\n",
       "\twith 19229 stored elements in Compressed Sparse Row format>"
      ]
     },
     "metadata": {},
     "output_type": "display_data"
    }
   ],
   "source": [
    "from sklearn.feature_extraction.text import CountVectorizer\n",
    "\n",
    "small_count_vectorizer = CountVectorizer(stop_words='english', max_features=400)\n",
    "small_text_sample = reindexed_data.sample(n=10000, random_state=0)#.as_matrix()\n",
    "\n",
    "display(small_text_sample)\n",
    "small_document_term_matrix = small_count_vectorizer.fit_transform(small_text_sample)\n",
    "display(small_document_term_matrix)\n"
   ]
  },
  {
   "cell_type": "code",
   "execution_count": 3,
   "metadata": {},
   "outputs": [
    {
     "data": {
      "text/plain": [
       "array([[ 4.98108688e-02,  7.54476552e-02, -6.10265553e-03, ...,\n",
       "        -2.82988504e-03, -7.74313437e-03,  5.17741436e-03],\n",
       "       [ 1.42231922e-02,  3.43498719e-03,  1.76389296e-02, ...,\n",
       "         1.38485956e-02,  1.57549350e-02,  9.48093726e-03],\n",
       "       [ 1.38671728e-02,  2.17205170e-02,  1.46374408e-02, ...,\n",
       "         1.63051044e-02, -6.60360039e-03,  1.00127236e-02],\n",
       "       ...,\n",
       "       [ 7.28484888e-04,  3.36887657e-03,  1.31928744e-02, ...,\n",
       "        -8.64439777e-05,  9.82267661e-04,  7.33466037e-03],\n",
       "       [ 1.44721518e-01, -1.04244982e-01,  5.30128874e-02, ...,\n",
       "         3.28755784e-02,  8.43975141e-01, -2.20853185e-01],\n",
       "       [ 3.21392559e-03,  3.21339270e-03,  1.39790891e-02, ...,\n",
       "         2.08540122e-02,  9.95913387e-03,  1.81768334e-02]])"
      ]
     },
     "metadata": {},
     "output_type": "display_data"
    }
   ],
   "source": [
    "from sklearn.decomposition import TruncatedSVD\n",
    "\n",
    "n_topics = 8\n",
    "\n",
    "lsa_model = TruncatedSVD(n_components=n_topics)\n",
    "lsa_topic_matrix = lsa_model.fit_transform(small_document_term_matrix)\n",
    "display(lsa_topic_matrix)"
   ]
  },
  {
   "cell_type": "code",
   "execution_count": 4,
   "metadata": {},
   "outputs": [],
   "source": [
    "from collections import Counter\n",
    "# Define helper functions\n",
    "def get_keys(topic_matrix):\n",
    "    '''returns an integer list of predicted topic categories for a given topic matrix'''\n",
    "    keys = []\n",
    "    for i in range(topic_matrix.shape[0]):\n",
    "        keys.append(topic_matrix[i].argmax())\n",
    "    return keys\n",
    "\n",
    "def keys_to_counts(keys):\n",
    "    '''returns a tuple of topic categories and their accompanying magnitudes for a given list of keys'''\n",
    "    count_pairs = Counter(keys).items()\n",
    "    categories = [pair[0] for pair in count_pairs]\n",
    "    counts = [pair[1] for pair in count_pairs]\n",
    "    return (categories, counts)"
   ]
  },
  {
   "cell_type": "code",
   "execution_count": 5,
   "metadata": {},
   "outputs": [],
   "source": [
    "lsa_keys = get_keys(lsa_topic_matrix)\n",
    "lsa_categories, lsa_counts = keys_to_counts(lsa_keys)"
   ]
  },
  {
   "cell_type": "code",
   "execution_count": 6,
   "metadata": {},
   "outputs": [],
   "source": [
    "# Define helper functions\n",
    "def get_top_n_words(n, keys, document_term_matrix, count_vectorizer):\n",
    "    '''returns a list of n_topic strings, where each string contains the n most common \n",
    "        words in a predicted category, in order'''\n",
    "    top_word_indices = []\n",
    "    for topic in range(n_topics):\n",
    "        temp_vector_sum = 0\n",
    "        for i in range(len(keys)):\n",
    "            if keys[i] == topic:\n",
    "                temp_vector_sum += document_term_matrix[i]\n",
    "        temp_vector_sum = temp_vector_sum.toarray()\n",
    "        top_n_word_indices = np.flip(np.argsort(temp_vector_sum)[0][-n:],0)\n",
    "        top_word_indices.append(top_n_word_indices)   \n",
    "    top_words = []\n",
    "    for topic in top_word_indices:\n",
    "        topic_words = []\n",
    "        for index in topic:\n",
    "            temp_word_vector = np.zeros((1,document_term_matrix.shape[1]))\n",
    "            temp_word_vector[:,index] = 1\n",
    "            the_word = count_vectorizer.inverse_transform(temp_word_vector)[0][0]\n",
    "            topic_words.append(the_word.encode('ascii').decode('utf-8'))\n",
    "        top_words.append(\" \".join(topic_words))         \n",
    "    return top_words"
   ]
  },
  {
   "cell_type": "code",
   "execution_count": 7,
   "metadata": {},
   "outputs": [
    {
     "name": "stdout",
     "output_type": "stream",
     "text": [
      "Topic 0:  iraq war pm howard bush says denies oil turkey troops\n",
      "Topic 1:  war anti protest protesters students protests rally sydney greens march\n",
      "Topic 2:  police death probe car missing clash coast search crash drug\n",
      "Topic 3:  govt nsw qld claims vic drought wa health urged claim\n",
      "Topic 4:  man court face charged murder hospital dies charges trial charge\n",
      "Topic 5:  new win sars takes season hopes work set hits resolution\n",
      "Topic 6:  says iraqi baghdad killed troops korea forces crash dead saddam\n",
      "Topic 7:  council water plan cup world rain boost security funds australia\n"
     ]
    }
   ],
   "source": [
    "import numpy as np\n",
    "top_n_words_lsa = get_top_n_words(10, lsa_keys, small_document_term_matrix, small_count_vectorizer)\n",
    "\n",
    "for i in range(len(top_n_words_lsa)):\n",
    "    print(\"Topic {}: \".format(i), top_n_words_lsa[i])"
   ]
  },
  {
   "cell_type": "code",
   "execution_count": 8,
   "metadata": {},
   "outputs": [
    {
     "data": {
      "text/plain": [
       "Text(0.5, 1.0, 'LSA Topic Category Counts')"
      ]
     },
     "execution_count": 8,
     "metadata": {},
     "output_type": "execute_result"
    },
    {
     "data": {
      "image/png": "[encoded data removed]",
      "text/plain": [
       "<Figure size 1152x576 with 1 Axes>"
      ]
     },
     "metadata": {
      "needs_background": "light"
     },
     "output_type": "display_data"
    }
   ],
   "source": [
    "import matplotlib.pyplot as plt\n",
    "import matplotlib.mlab as mlab\n",
    "\n",
    "%matplotlib inline\n",
    "top_3_words = get_top_n_words(3, lsa_keys, small_document_term_matrix, small_count_vectorizer)\n",
    "labels = ['Topic {}: \\n'.format(i) + top_3_words[i] for i in lsa_categories]\n",
    "\n",
    "fig, ax = plt.subplots(figsize=(16,8))\n",
    "ax.bar(lsa_categories, lsa_counts)\n",
    "ax.set_xticks(lsa_categories)\n",
    "ax.set_xticklabels(labels)\n",
    "ax.set_title('LSA Topic Category Counts')"
   ]
  },
  {
   "cell_type": "code",
   "execution_count": null,
   "metadata": {},
   "outputs": [],
   "source": []
  }
 ],
 "metadata": {
  "kernelspec": {
   "display_name": "Python 3",
   "language": "python",
   "name": "python3"
  },
  "language_info": {
   "codemirror_mode": {
    "name": "ipython",
    "version": 3
   },
   "file_extension": ".py",
   "mimetype": "text/x-python",
   "name": "python",
   "nbconvert_exporter": "python",
   "pygments_lexer": "ipython3",
   "version": "3.7.6"
  }
 },
 "nbformat": 4,
 "nbformat_minor": 2
}
