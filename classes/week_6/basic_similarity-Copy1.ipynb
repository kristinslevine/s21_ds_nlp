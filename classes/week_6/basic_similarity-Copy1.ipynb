{
 "cells": [
  {
   "cell_type": "markdown",
   "metadata": {},
   "source": [
    "Jaccard Similarity - A simple way to evaluate strings for how similar they are.\n"
   ]
  },
  {
   "cell_type": "code",
   "execution_count": 12,
   "metadata": {},
   "outputs": [
    {
     "name": "stdout",
     "output_type": "stream",
     "text": [
      "{'Jones', 'musician', 'George', 'is', 'a'}\n"
     ]
    }
   ],
   "source": [
    "# Calculating the Jaccard is pretty straightforward.\n",
    "# setting u pthe methods to do so can be helpful as sometimes you might need custom similarity metrics\n",
    "# here we are simply looking at the similarity of two string measured by the overlap of individual tokens.\n",
    "\n",
    "str1 = \"George Jones is a noted musician\"\n",
    "str2 = \"The bluegrass of George Jones is good\"\n",
    "str3 = \"The mayor is mean\" # some say\n",
    "str4 = \"George Jones is a talented musician\"\n",
    "\n",
    "\n",
    "\n",
    "a = set(str1.split()) \n",
    "b = set(str4.split())\n",
    "c = a.intersection(b)\n",
    "\n",
    "print(c)"
   ]
  },
  {
   "cell_type": "code",
   "execution_count": 13,
   "metadata": {},
   "outputs": [
    {
     "name": "stdout",
     "output_type": "stream",
     "text": [
      "0.7142857142857143\n"
     ]
    }
   ],
   "source": [
    "# calculating the Jaccard Similiarity then is simply dividing the length of the intersection \n",
    "# by the size of the two sets. Notice the divisor is aimed at getting the union of the vocabulary. \n",
    "# Set operations in Python could do this more clearly.\n",
    "jaccard = float(len(c)) / (len(a) + len(b) - len(c))\n",
    "print(jaccard)"
   ]
  },
  {
   "cell_type": "markdown",
   "metadata": {},
   "source": [
    "Cosine Similarity -\n",
    "Another method of similarity evaluation but attempts to look at the angle relative to two vectors across all dimensions."
   ]
  },
  {
   "cell_type": "code",
   "execution_count": 14,
   "metadata": {},
   "outputs": [
    {
     "name": "stdout",
     "output_type": "stream",
     "text": [
      "0.7745966692414834\n"
     ]
    }
   ],
   "source": [
    "import numpy\n",
    "a = [1,1,1,1,1,1,0,0,0,0]\n",
    "#b = a\n",
    "b = [1,1,1,1,1,1,1,1,1,1]\n",
    "dot_product = numpy.dot(a, b)\n",
    "norm_a = numpy.linalg.norm(a)\n",
    "norm_b = numpy.linalg.norm(b)\n",
    "cosine_similarity = dot_product / (norm_a * norm_b)\n",
    "\n",
    "print(cosine_similarity)\n",
    "\n"
   ]
  },
  {
   "cell_type": "code",
   "execution_count": 30,
   "metadata": {},
   "outputs": [],
   "source": [
    "a = set(str1.split()) \n",
    "b = set(str4.split())\n",
    "c = a.intersection(b)\n"
   ]
  },
  {
   "cell_type": "code",
   "execution_count": 31,
   "metadata": {},
   "outputs": [
    {
     "data": {
      "text/plain": [
       "{'George', 'Jones', 'a', 'is', 'musician', 'noted'}"
      ]
     },
     "execution_count": 31,
     "metadata": {},
     "output_type": "execute_result"
    }
   ],
   "source": [
    "a"
   ]
  },
  {
   "cell_type": "code",
   "execution_count": 32,
   "metadata": {},
   "outputs": [
    {
     "data": {
      "text/plain": [
       "{'George', 'Jones', 'a', 'is', 'musician', 'noted', 'talented'}"
      ]
     },
     "execution_count": 32,
     "metadata": {},
     "output_type": "execute_result"
    }
   ],
   "source": [
    "total = a.union(b)\n",
    "total"
   ]
  },
  {
   "cell_type": "code",
   "execution_count": 33,
   "metadata": {},
   "outputs": [
    {
     "name": "stdout",
     "output_type": "stream",
     "text": [
      "['Jones', 'noted', 'talented', 'George', 'is', 'a', 'musician']\n"
     ]
    }
   ],
   "source": [
    "reference = list(total)\n",
    "print(reference)"
   ]
  },
  {
   "cell_type": "code",
   "execution_count": 34,
   "metadata": {},
   "outputs": [],
   "source": [
    "def vectorize(sentence):\n",
    "    temp_vector = []\n",
    "    for item in reference:\n",
    "        if item in sentence:\n",
    "            temp_vector.append(1)\n",
    "        else:\n",
    "            temp_vector.append(0)\n",
    "    return temp_vector"
   ]
  },
  {
   "cell_type": "code",
   "execution_count": 35,
   "metadata": {},
   "outputs": [
    {
     "name": "stdout",
     "output_type": "stream",
     "text": [
      "[1, 1, 0, 1, 1, 1, 1]\n",
      "[1, 0, 1, 1, 1, 1, 1]\n"
     ]
    }
   ],
   "source": [
    "v1 = vectorize(list(a))\n",
    "v2 = vectorize(list(b))\n",
    "print(v1)\n",
    "print(v2)"
   ]
  },
  {
   "cell_type": "code",
   "execution_count": 36,
   "metadata": {},
   "outputs": [
    {
     "name": "stdout",
     "output_type": "stream",
     "text": [
      "0.8333333333333335\n"
     ]
    }
   ],
   "source": [
    "def cos_sim(a, b):\n",
    "    dot_product = numpy.dot(a, b)\n",
    "    norm_a = numpy.linalg.norm(a)\n",
    "    norm_b = numpy.linalg.norm(b)\n",
    "    cosine_similarity = dot_product / (norm_a * norm_b)\n",
    "    return cosine_similarity\n",
    "\n",
    "print(cos_sim(v1, v2))\n",
    "\n"
   ]
  },
  {
   "cell_type": "code",
   "execution_count": 9,
   "metadata": {},
   "outputs": [
    {
     "data": {
      "text/plain": [
       "[1, 1, 1, 1, 1, 1, 0, 0, 0, 0, 1, 1, 1, 1, 1, 1, 1, 1, 1, 1]"
      ]
     },
     "execution_count": 9,
     "metadata": {},
     "output_type": "execute_result"
    }
   ],
   "source": [
    "total_set"
   ]
  },
  {
   "cell_type": "code",
   "execution_count": null,
   "metadata": {},
   "outputs": [],
   "source": []
  }
 ],
 "metadata": {
  "kernelspec": {
   "display_name": "Python 3",
   "language": "python",
   "name": "python3"
  },
  "language_info": {
   "codemirror_mode": {
    "name": "ipython",
    "version": 3
   },
   "file_extension": ".py",
   "mimetype": "text/x-python",
   "name": "python",
   "nbconvert_exporter": "python",
   "pygments_lexer": "ipython3",
   "version": "3.7.3"
  }
 },
 "nbformat": 4,
 "nbformat_minor": 2
}
